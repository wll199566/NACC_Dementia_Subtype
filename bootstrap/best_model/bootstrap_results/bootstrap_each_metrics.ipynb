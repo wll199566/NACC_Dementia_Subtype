{
 "cells": [
  {
   "cell_type": "markdown",
   "metadata": {},
   "source": [
    "This jupyter notebook is to get the confidence interval for each evaluation metrics for our best model. Including macro F1 score, micro F1 score and F1 score for each disease."
   ]
  },
  {
   "cell_type": "markdown",
   "metadata": {},
   "source": [
    "# Read in bootstrap results"
   ]
  },
  {
   "cell_type": "code",
   "execution_count": 1,
   "metadata": {},
   "outputs": [],
   "source": [
    "import pickle"
   ]
  },
  {
   "cell_type": "code",
   "execution_count": 2,
   "metadata": {},
   "outputs": [],
   "source": [
    "with open(\"./f1_score_dict_n_size=0.8.pickle\", \"rb\") as fin:\n",
    "    f1_score_dict = pickle.load(fin)"
   ]
  },
  {
   "cell_type": "code",
   "execution_count": 3,
   "metadata": {},
   "outputs": [],
   "source": [
    "with open(\"./sample_indices_lists_n_size=0.8.pikcle\", \"rb\") as fin:\n",
    "    sample_indices_lists = pickle.load(fin)"
   ]
  },
  {
   "cell_type": "markdown",
   "metadata": {},
   "source": [
    "# To get the confident interval for each metrics"
   ]
  },
  {
   "cell_type": "code",
   "execution_count": 4,
   "metadata": {},
   "outputs": [],
   "source": [
    "import numpy as np"
   ]
  },
  {
   "cell_type": "code",
   "execution_count": 5,
   "metadata": {},
   "outputs": [],
   "source": [
    "# define a function to get the confident interval for the metrics\n",
    "def get_confident_interval(metrics_list, alpha):\n",
    "    \"\"\"\n",
    "    Args:\n",
    "        - metrics_list: list containing all the bootstrap value for this metrics\n",
    "        - alpha: the chosen percentile\n",
    "    \"\"\"\n",
    "    p = ((1.0 - alpha) / 2.0) * 100\n",
    "    #lower = max(0.0, np.percentile(metrics_list, p))\n",
    "    lower = np.percentile(metrics_list, p)\n",
    "    p = (alpha + ((1.0-alpha)/2.0)) * 100\n",
    "    #upper = min(1.0, np.percentile(metrics_list, p))\n",
    "    upper = np.percentile(metrics_list, p)\n",
    "    #print(\"{}% confidence interval {}% and {}%\".format(alpha*100, lower*100, upper*100))    \n",
    "    print(\"{}% confidence interval {} and {}\".format(alpha*100, lower, upper))"
   ]
  },
  {
   "cell_type": "code",
   "execution_count": 6,
   "metadata": {},
   "outputs": [
    {
     "name": "stdout",
     "output_type": "stream",
     "text": [
      "95.0% confidence interval 0.3282491377035809 and 0.48189159247438285\n"
     ]
    }
   ],
   "source": [
    "### for macro f1 score ###\n",
    "macro_f1_scores = [stats[\"eval_f1_macro\"] for stats in f1_score_dict]\n",
    "\n",
    "get_confident_interval(macro_f1_scores, 0.95)"
   ]
  },
  {
   "cell_type": "code",
   "execution_count": 7,
   "metadata": {},
   "outputs": [
    {
     "data": {
      "text/plain": [
       "(0.2803347476216913, 0.5275429827545599)"
      ]
     },
     "execution_count": 7,
     "metadata": {},
     "output_type": "execute_result"
    }
   ],
   "source": [
    "min(macro_f1_scores), max(macro_f1_scores)"
   ]
  },
  {
   "cell_type": "code",
   "execution_count": 8,
   "metadata": {},
   "outputs": [
    {
     "name": "stdout",
     "output_type": "stream",
     "text": [
      "95.0% confidence interval 0.41776315789473684 and 0.5328947368421053\n"
     ]
    }
   ],
   "source": [
    "### for micro f1 score ###\n",
    "micro_f1_scores = [stats[\"eval_f1_micro\"] for stats in f1_score_dict]\n",
    "\n",
    "get_confident_interval(micro_f1_scores, 0.95)"
   ]
  },
  {
   "cell_type": "code",
   "execution_count": 9,
   "metadata": {},
   "outputs": [
    {
     "data": {
      "text/plain": [
       "(0.35855263157894735, 0.5275429827545599)"
      ]
     },
     "execution_count": 9,
     "metadata": {},
     "output_type": "execute_result"
    }
   ],
   "source": [
    "min(micro_f1_scores), max(macro_f1_scores)"
   ]
  },
  {
   "cell_type": "code",
   "execution_count": 10,
   "metadata": {},
   "outputs": [
    {
     "name": "stdout",
     "output_type": "stream",
     "text": [
      "95.0% confidence interval 0.48743548387096775 and 0.626584388185654\n"
     ]
    }
   ],
   "source": [
    "### for Pure Alzheimer ###\n",
    "pure_alz_f1_scores = [stats[\"eval_f1s\"][0] for stats in f1_score_dict]\n",
    "\n",
    "get_confident_interval(pure_alz_f1_scores, 0.95)"
   ]
  },
  {
   "cell_type": "code",
   "execution_count": 11,
   "metadata": {},
   "outputs": [
    {
     "name": "stdout",
     "output_type": "stream",
     "text": [
      "95.0% confidence interval 0.08000000000000002 and 0.518599033816425\n"
     ]
    }
   ],
   "source": [
    "### for Pure LBD ###\n",
    "pure_lbd_f1_scores = [stats[\"eval_f1s\"][1] for stats in f1_score_dict]\n",
    "\n",
    "get_confident_interval(pure_lbd_f1_scores, 0.95)"
   ]
  },
  {
   "cell_type": "code",
   "execution_count": 12,
   "metadata": {},
   "outputs": [
    {
     "data": {
      "text/plain": [
       "(0.0, 0.6153846153846153)"
      ]
     },
     "execution_count": 12,
     "metadata": {},
     "output_type": "execute_result"
    }
   ],
   "source": [
    "min(pure_lbd_f1_scores), max(pure_lbd_f1_scores)"
   ]
  },
  {
   "cell_type": "code",
   "execution_count": 13,
   "metadata": {
    "scrolled": true
   },
   "outputs": [
    {
     "name": "stdout",
     "output_type": "stream",
     "text": [
      "95.0% confidence interval 0.15381355932203394 and 0.37209302325581395\n"
     ]
    }
   ],
   "source": [
    "### for MIX AD + LBD ###\n",
    "mix_f1_scores = [stats[\"eval_f1s\"][2] for stats in f1_score_dict]\n",
    "\n",
    "get_confident_interval(mix_f1_scores, 0.95)"
   ]
  },
  {
   "cell_type": "code",
   "execution_count": 14,
   "metadata": {},
   "outputs": [
    {
     "name": "stdout",
     "output_type": "stream",
     "text": [
      "95.0% confidence interval 0.40579710144927533 and 0.5912079937479067\n"
     ]
    }
   ],
   "source": [
    "### for others ###\n",
    "others_f1_scores = [stats[\"eval_f1s\"][3] for stats in f1_score_dict]\n",
    "\n",
    "get_confident_interval(others_f1_scores, 0.95)"
   ]
  },
  {
   "cell_type": "markdown",
   "metadata": {},
   "source": [
    "# Get the mean of and histgram of each metrics"
   ]
  },
  {
   "cell_type": "code",
   "execution_count": 15,
   "metadata": {},
   "outputs": [],
   "source": [
    "import matplotlib.pyplot as plt\n",
    "from statistics import mean"
   ]
  },
  {
   "cell_type": "code",
   "execution_count": 16,
   "metadata": {},
   "outputs": [],
   "source": [
    "alpha = 0.95"
   ]
  },
  {
   "cell_type": "code",
   "execution_count": 17,
   "metadata": {},
   "outputs": [
    {
     "name": "stdout",
     "output_type": "stream",
     "text": [
      "mean is 0.4049093522543169\n",
      "95.0% confidence interval 0.3282491377035809 and 0.48189159247438285\n"
     ]
    },
    {
     "data": {
      "image/png": "[encoded data removed]",
      "text/plain": [
       "<matplotlib.figure.Figure at 0x7fab38a29780>"
      ]
     },
     "metadata": {},
     "output_type": "display_data"
    }
   ],
   "source": [
    "### macro_f1_scores ###\n",
    "print(\"mean is\", mean(macro_f1_scores))\n",
    "get_confident_interval(macro_f1_scores, alpha)\n",
    "plt.hist(macro_f1_scores)\n",
    "plt.show()"
   ]
  },
  {
   "cell_type": "code",
   "execution_count": 18,
   "metadata": {},
   "outputs": [
    {
     "name": "stdout",
     "output_type": "stream",
     "text": [
      "mean is 0.47409210526315787\n",
      "95.0% confidence interval 0.41776315789473684 and 0.5328947368421053\n"
     ]
    },
    {
     "data": {
      "image/png": "[encoded data removed]",
      "text/plain": [
       "<matplotlib.figure.Figure at 0x7fab38a29400>"
      ]
     },
     "metadata": {},
     "output_type": "display_data"
    }
   ],
   "source": [
    "### micro_f1_scores ###\n",
    "print(\"mean is\", mean(micro_f1_scores))\n",
    "get_confident_interval(micro_f1_scores, alpha)\n",
    "plt.hist(micro_f1_scores)\n",
    "plt.show()"
   ]
  },
  {
   "cell_type": "code",
   "execution_count": 19,
   "metadata": {},
   "outputs": [
    {
     "name": "stdout",
     "output_type": "stream",
     "text": [
      "mean is 0.5625769570198287\n",
      "95.0% confidence interval 0.48743548387096775 and 0.626584388185654\n"
     ]
    },
    {
     "data": {
      "image/png": "[encoded data removed]",
      "text/plain": [
       "<matplotlib.figure.Figure at 0x7fab389ddfd0>"
      ]
     },
     "metadata": {},
     "output_type": "display_data"
    }
   ],
   "source": [
    "### pure_alz_f1_scores ###\n",
    "print(\"mean is\", mean(pure_alz_f1_scores))\n",
    "get_confident_interval(pure_alz_f1_scores, alpha)\n",
    "plt.hist(pure_alz_f1_scores)\n",
    "plt.show()"
   ]
  },
  {
   "cell_type": "code",
   "execution_count": 20,
   "metadata": {},
   "outputs": [
    {
     "name": "stdout",
     "output_type": "stream",
     "text": [
      "mean is 0.2951991072571849\n",
      "95.0% confidence interval 0.08000000000000002 and 0.518599033816425\n"
     ]
    },
    {
     "data": {
      "image/png": "[encoded data removed]",
      "text/plain": [
       "<matplotlib.figure.Figure at 0x7fab38924898>"
      ]
     },
     "metadata": {},
     "output_type": "display_data"
    }
   ],
   "source": [
    "### pure_lbd_f1_scores ###\n",
    "print(\"mean is\", mean(pure_lbd_f1_scores))\n",
    "get_confident_interval(pure_lbd_f1_scores, alpha)\n",
    "plt.hist(pure_lbd_f1_scores)\n",
    "plt.show()"
   ]
  },
  {
   "cell_type": "code",
   "execution_count": 21,
   "metadata": {},
   "outputs": [
    {
     "name": "stdout",
     "output_type": "stream",
     "text": [
      "mean is 0.2646275317380033\n",
      "95.0% confidence interval 0.15381355932203394 and 0.37209302325581395\n"
     ]
    },
    {
     "data": {
      "image/png": "[encoded data removed]",
      "text/plain": [
       "<matplotlib.figure.Figure at 0x7fab388911d0>"
      ]
     },
     "metadata": {},
     "output_type": "display_data"
    }
   ],
   "source": [
    "### mix_f1_scores ###\n",
    "print(\"mean is\", mean(mix_f1_scores))\n",
    "get_confident_interval(mix_f1_scores, alpha)\n",
    "plt.hist(mix_f1_scores)\n",
    "plt.show()"
   ]
  },
  {
   "cell_type": "code",
   "execution_count": 22,
   "metadata": {},
   "outputs": [
    {
     "name": "stdout",
     "output_type": "stream",
     "text": [
      "mean is 0.4972338130022507\n",
      "95.0% confidence interval 0.40579710144927533 and 0.5912079937479067\n"
     ]
    },
    {
     "data": {
      "image/png": "[encoded data removed]",
      "text/plain": [
       "<matplotlib.figure.Figure at 0x7fab3881f4e0>"
      ]
     },
     "metadata": {},
     "output_type": "display_data"
    }
   ],
   "source": [
    "### others ###\n",
    "print(\"mean is\", mean(others_f1_scores))\n",
    "get_confident_interval(others_f1_scores, alpha)\n",
    "plt.hist(others_f1_scores)\n",
    "plt.show()"
   ]
  },
  {
   "cell_type": "code",
   "execution_count": null,
   "metadata": {},
   "outputs": [],
   "source": []
  }
 ],
 "metadata": {
  "kernelspec": {
   "display_name": "Python 3",
   "language": "python",
   "name": "python3"
  },
  "language_info": {
   "codemirror_mode": {
    "name": "ipython",
    "version": 3
   },
   "file_extension": ".py",
   "mimetype": "text/x-python",
   "name": "python",
   "nbconvert_exporter": "python",
   "pygments_lexer": "ipython3",
   "version": "3.6.5"
  }
 },
 "nbformat": 4,
 "nbformat_minor": 2
}
