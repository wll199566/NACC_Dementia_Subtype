{
 "cells": [
  {
   "cell_type": "markdown",
   "metadata": {},
   "source": [
    "# Get the clinician diagonosis"
   ]
  },
  {
   "cell_type": "code",
   "execution_count": 39,
   "metadata": {},
   "outputs": [],
   "source": [
    "import pandas as pd\n",
    "import numpy as np\n",
    "from sklearn.metrics import f1_score\n",
    "from sklearn.utils import resample"
   ]
  },
  {
   "cell_type": "code",
   "execution_count": 31,
   "metadata": {},
   "outputs": [],
   "source": [
    "with open(\"../preprocess_data/processed_data/processed_csv/first_visit_features/train_first_visit_features.csv\", \"rt\") as fin:\n",
    "    train_features = pd.read_csv(fin, low_memory=False)\n",
    "with open(\"../preprocess_data/processed_data/processed_csv/first_visit_features/valid_first_visit_features.csv\", \"rt\") as fin:\n",
    "    valid_features = pd.read_csv(fin, low_memory=False)\n",
    "with open(\"../preprocess_data/processed_data/processed_csv/first_visit_features/test_first_visit_features.csv\", \"rt\") as fin:\n",
    "    test_features = pd.read_csv(fin, low_memory=False)"
   ]
  },
  {
   "cell_type": "code",
   "execution_count": 32,
   "metadata": {},
   "outputs": [],
   "source": [
    "# get the clinical diagonsis\n",
    "def label_clinical_diagonsis(row):\n",
    "    if (row[\"NACCALZD\"] == 1) and (row[\"NACCLBDE\"] != 1):\n",
    "        return 0\n",
    "    elif (row[\"NACCALZD\"] != 1) and (row[\"NACCLBDE\"] == 1):\n",
    "        return 1\n",
    "    elif (row[\"NACCALZD\"] == 1) and (row[\"NACCLBDE\"] == 1):\n",
    "        return 2\n",
    "    else:\n",
    "        return 3"
   ]
  },
  {
   "cell_type": "code",
   "execution_count": 33,
   "metadata": {},
   "outputs": [],
   "source": [
    "# to add a column and fill clinical diagnosis for each row in test set\n",
    "test_features[\"clinician_diagnosis\"] = test_features.apply(lambda row: label_clinical_diagonsis(row), axis=1)"
   ]
  },
  {
   "cell_type": "code",
   "execution_count": 34,
   "metadata": {},
   "outputs": [
    {
     "data": {
      "text/plain": [
       "(380, 380)"
      ]
     },
     "execution_count": 34,
     "metadata": {},
     "output_type": "execute_result"
    }
   ],
   "source": [
    "len(test_features), len(pd.unique(test_features[\"NACCID\"]))"
   ]
  },
  {
   "cell_type": "code",
   "execution_count": 35,
   "metadata": {},
   "outputs": [
    {
     "data": {
      "text/plain": [
       "label\n",
       "0    152\n",
       "1     10\n",
       "2    115\n",
       "3    103\n",
       "Name: NACCID, dtype: int64"
      ]
     },
     "execution_count": 35,
     "metadata": {},
     "output_type": "execute_result"
    }
   ],
   "source": [
    "# to get the true label statistics for test features\n",
    "test_features.groupby(\"label\").count()[\"NACCID\"]"
   ]
  },
  {
   "cell_type": "markdown",
   "metadata": {},
   "source": [
    "# Compute the clinician confidence interval"
   ]
  },
  {
   "cell_type": "code",
   "execution_count": 36,
   "metadata": {},
   "outputs": [],
   "source": [
    "# step 1: we get a list containing (naccid, label, clinician_diagnosis)\n",
    "test_label_diag = test_features[[\"NACCID\", \"label\", \"clinician_diagnosis\"]].values"
   ]
  },
  {
   "cell_type": "code",
   "execution_count": 37,
   "metadata": {},
   "outputs": [
    {
     "data": {
      "text/plain": [
       "array([['NACC014159', 0, 0],\n",
       "       ['NACC017967', 0, 0],\n",
       "       ['NACC020729', 3, 2],\n",
       "       ...,\n",
       "       ['NACC988182', 1, 1],\n",
       "       ['NACC993747', 0, 0],\n",
       "       ['NACC997719', 3, 3]], dtype=object)"
      ]
     },
     "execution_count": 37,
     "metadata": {},
     "output_type": "execute_result"
    }
   ],
   "source": [
    "test_label_diag"
   ]
  },
  {
   "cell_type": "code",
   "execution_count": 38,
   "metadata": {},
   "outputs": [
    {
     "data": {
      "text/plain": [
       "array([['NACC021496', 3, 3],\n",
       "       ['NACC030229', 3, 3],\n",
       "       ['NACC061943', 2, 3],\n",
       "       ['NACC068046', 3, 0]], dtype=object)"
      ]
     },
     "execution_count": 38,
     "metadata": {},
     "output_type": "execute_result"
    }
   ],
   "source": [
    "test_index = np.array([3,6,12,14])\n",
    "test_label_diag[test_index]"
   ]
  },
  {
   "cell_type": "code",
   "execution_count": 52,
   "metadata": {},
   "outputs": [],
   "source": [
    "# step 2: define a function to get the bootstrap sample sets\n",
    "def construct_bootstrap_test_samples(feature_list, sample_size):\n",
    "    \"\"\"\n",
    "    Args:\n",
    "        - feature_list: the list containing all test features\n",
    "        - sample_size: the number of samples in each bootstrap sample\n",
    "    \"\"\"\n",
    "    index_array = np.arange(len(feature_list))  # get the index array for test_features\n",
    "    resampled_index_array = resample(index_array, n_samples=sample_size)\n",
    "    #resampled_index_list = resampled_index_array.tolist()\n",
    "    features_resampled = [feature_list[i] for i in resampled_index_array]\n",
    "\n",
    "    return features_resampled, resampled_index_array\n"
   ]
  },
  {
   "cell_type": "code",
   "execution_count": 53,
   "metadata": {},
   "outputs": [
    {
     "data": {
      "text/plain": [
       "380"
      ]
     },
     "execution_count": 53,
     "metadata": {},
     "output_type": "execute_result"
    }
   ],
   "source": [
    "len(test_label_diag)"
   ]
  },
  {
   "cell_type": "code",
   "execution_count": 54,
   "metadata": {},
   "outputs": [
    {
     "data": {
      "text/plain": [
       "([array(['NACC316187', 2, 0], dtype=object),\n",
       "  array(['NACC139670', 2, 0], dtype=object),\n",
       "  array(['NACC219715', 3, 3], dtype=object),\n",
       "  array(['NACC239438', 3, 0], dtype=object)],\n",
       " array([148,  50,  85,  98]))"
      ]
     },
     "execution_count": 54,
     "metadata": {},
     "output_type": "execute_result"
    }
   ],
   "source": [
    "construct_bootstrap_test_samples(test_label_diag, 4)"
   ]
  },
  {
   "cell_type": "code",
   "execution_count": 61,
   "metadata": {},
   "outputs": [],
   "source": [
    "# step 3: use sklearn to compute the F1 score for each metrics\n",
    "def compute_f1_scores(sampled_array):\n",
    "    \"\"\"\n",
    "    Compute F1 scores for macro, micro, and each disease\n",
    "    Args:\n",
    "        - sampled_array: numpy array containing resampled test sample.\n",
    "                         each sample has the format array([naccid, label, clinician_diagnosis])\n",
    "    \"\"\"\n",
    "    resampled_labels = [sample[1] for sample in sampled_array]\n",
    "    resampled_clinician_diag = [sample[2] for sample in sampled_array]\n",
    "    \n",
    "    eval_stat = {\"f1_macro_scores\": f1_score(resampled_labels, resampled_clinician_diag, average=\"macro\"),\n",
    "                 \"f1_micro_scores\": f1_score(resampled_labels, resampled_clinician_diag, average=\"micro\"),\n",
    "                 \"f1s_scores\": f1_score(resampled_labels, resampled_clinician_diag, average=None)}\n",
    "    \n",
    "    return eval_stat"
   ]
  },
  {
   "cell_type": "code",
   "execution_count": 62,
   "metadata": {},
   "outputs": [],
   "source": [
    "# step 3: use bootstrap to get the f1 scores for each bootstap sample set\n",
    "\n",
    "# configure bootstrap\n",
    "n_iterations = 1000\n",
    "n_size = int(len(test_label_diag)*0.8)\n",
    "\n",
    "# run bootstrap\n",
    "stats_list = []  # python list containing eval_stats for different bootstrap samples\n",
    "sample_indices_list = []  # randomly bootstrap sample indices \n",
    "\n",
    "for iteration in range(n_iterations):\n",
    "\n",
    "    # prepare bootstrap test set\n",
    "    test_set, sample_indices = construct_bootstrap_test_samples(test_label_diag, n_size)\n",
    "    sample_indices_list.append(sample_indices)\n",
    "\n",
    "    # compute the F1 scores\n",
    "    f1_scores = compute_f1_scores(test_set)\n",
    "    stats_list.append(f1_scores)"
   ]
  },
  {
   "cell_type": "code",
   "execution_count": 64,
   "metadata": {},
   "outputs": [
    {
     "data": {
      "text/plain": [
       "1000"
      ]
     },
     "execution_count": 64,
     "metadata": {},
     "output_type": "execute_result"
    }
   ],
   "source": [
    "len(stats_list)"
   ]
  },
  {
   "cell_type": "markdown",
   "metadata": {},
   "source": [
    "# Get the bootstrap statistics for each metrics"
   ]
  },
  {
   "cell_type": "code",
   "execution_count": 68,
   "metadata": {},
   "outputs": [],
   "source": [
    "import matplotlib.pyplot as plt\n",
    "from statistics import mean"
   ]
  },
  {
   "cell_type": "code",
   "execution_count": 89,
   "metadata": {},
   "outputs": [],
   "source": [
    "# define a function to get the confident interval for the metrics\\n\",\n",
    "def get_confident_interval(metrics_list, alpha):\n",
    "    \"\"\"\n",
    "    Args:\n",
    "        - metrics_list: list containing all the bootstrap value for this metrics\\n\",\n",
    "        - alpha: the chosen percentile\n",
    "    \"\"\"\n",
    "    \n",
    "    p = ((1.0 - alpha) / 2.0) * 100,\n",
    "    lower = np.percentile(metrics_list, p),\n",
    "    p = (alpha + ((1.0-alpha)/2.0)) * 100,\n",
    "    upper = np.percentile(metrics_list, p),\n",
    "    print(\"{}% confidence interval {} and {}\".format(alpha*100, lower[0], upper[0]))\n"
   ]
  },
  {
   "cell_type": "code",
   "execution_count": 90,
   "metadata": {},
   "outputs": [],
   "source": [
    "alpha = 0.95"
   ]
  },
  {
   "cell_type": "code",
   "execution_count": 91,
   "metadata": {},
   "outputs": [
    {
     "name": "stdout",
     "output_type": "stream",
     "text": [
      "mean is 0.3713774041404357\n",
      "95.0% confidence interval [0.30338562] and [0.44428589]\n"
     ]
    },
    {
     "data": {
      "image/png": "[encoded data removed]",
      "text/plain": [
       "<matplotlib.figure.Figure at 0x7e3c3ae09748>"
      ]
     },
     "metadata": {},
     "output_type": "display_data"
    }
   ],
   "source": [
    "### for macro f1 score ###\n",
    "macro_f1_scores = [sample_stats[\"f1_macro_scores\"] for sample_stats in stats_list]\n",
    "print(\"mean is\", mean(macro_f1_scores))\n",
    "get_confident_interval(macro_f1_scores, alpha)\n",
    "plt.hist(macro_f1_scores)\n",
    "plt.show()"
   ]
  },
  {
   "cell_type": "code",
   "execution_count": 92,
   "metadata": {},
   "outputs": [
    {
     "name": "stdout",
     "output_type": "stream",
     "text": [
      "mean is 0.4739605263157895\n",
      "95.0% confidence interval [0.41776316] and [0.52960526]\n"
     ]
    },
    {
     "data": {
      "image/png": "[encoded data removed]",
      "text/plain": [
       "<matplotlib.figure.Figure at 0x7e3c3adbd748>"
      ]
     },
     "metadata": {},
     "output_type": "display_data"
    }
   ],
   "source": [
    "### for micro f1 score ###\n",
    "micro_f1_scores = [sample_stats[\"f1_micro_scores\"] for sample_stats in stats_list]\n",
    "print(\"mean is\", mean(micro_f1_scores))\n",
    "get_confident_interval(micro_f1_scores, alpha)\n",
    "plt.hist(micro_f1_scores)\n",
    "plt.show()"
   ]
  },
  {
   "cell_type": "code",
   "execution_count": 98,
   "metadata": {},
   "outputs": [
    {
     "name": "stdout",
     "output_type": "stream",
     "text": [
      "mean is 0.5562310159172928\n",
      "95.0% confidence interval [0.48854962] and [0.62416107]\n"
     ]
    },
    {
     "data": {
      "image/png": "[encoded data removed]",
      "text/plain": [
       "<matplotlib.figure.Figure at 0x7e3c3ac0f400>"
      ]
     },
     "metadata": {},
     "output_type": "display_data"
    }
   ],
   "source": [
    "### for PURE AD f1 score ###\n",
    "pure_ad_f1_scores = [sample_stats[\"f1s_scores\"][0] for sample_stats in stats_list]\n",
    "print(\"mean is\", mean(pure_ad_f1_scores))\n",
    "get_confident_interval(pure_ad_f1_scores, alpha)\n",
    "plt.hist(pure_ad_f1_scores)\n",
    "plt.show()"
   ]
  },
  {
   "cell_type": "code",
   "execution_count": 99,
   "metadata": {},
   "outputs": [
    {
     "name": "stdout",
     "output_type": "stream",
     "text": [
      "mean is 0.28321855491387854\n",
      "95.0% confidence interval [0.] and [0.52649123]\n"
     ]
    },
    {
     "data": {
      "image/png": "[encoded data removed]",
      "text/plain": [
       "<matplotlib.figure.Figure at 0x7e3c3ab68518>"
      ]
     },
     "metadata": {},
     "output_type": "display_data"
    }
   ],
   "source": [
    "### for PURE LBD f1 score ###\n",
    "pure_lbd_f1_scores = [sample_stats[\"f1s_scores\"][1] for sample_stats in stats_list]\n",
    "print(\"mean is\", mean(pure_lbd_f1_scores))\n",
    "get_confident_interval(pure_lbd_f1_scores, alpha)\n",
    "plt.hist(pure_lbd_f1_scores)\n",
    "plt.show()"
   ]
  },
  {
   "cell_type": "code",
   "execution_count": 100,
   "metadata": {},
   "outputs": [
    {
     "name": "stdout",
     "output_type": "stream",
     "text": [
      "mean is 0.062409494272759915\n",
      "95.0% confidence interval [0.] and [0.13333333]\n"
     ]
    },
    {
     "data": {
      "image/png": "[encoded data removed]",
      "text/plain": [
       "<matplotlib.figure.Figure at 0x7e3c3abeaa90>"
      ]
     },
     "metadata": {},
     "output_type": "display_data"
    }
   ],
   "source": [
    "### for MIXED f1 score ###\n",
    "mixed_f1_scores = [sample_stats[\"f1s_scores\"][2] for sample_stats in stats_list]\n",
    "print(\"mean is\", mean(mixed_f1_scores))\n",
    "get_confident_interval(mixed_f1_scores, alpha)\n",
    "plt.hist(mixed_f1_scores)\n",
    "plt.show()"
   ]
  },
  {
   "cell_type": "code",
   "execution_count": 101,
   "metadata": {},
   "outputs": [
    {
     "name": "stdout",
     "output_type": "stream",
     "text": [
      "mean is 0.5836505514578114\n",
      "95.0% confidence interval [0.4917987] and [0.66666667]\n"
     ]
    },
    {
     "data": {
      "image/png": "[encoded data removed]",
      "text/plain": [
       "<matplotlib.figure.Figure at 0x7e3c3ae3ef60>"
      ]
     },
     "metadata": {},
     "output_type": "display_data"
    }
   ],
   "source": [
    "### for OTHERS f1 score ###\n",
    "others_f1_scores = [sample_stats[\"f1s_scores\"][3] for sample_stats in stats_list]\n",
    "print(\"mean is\", mean(others_f1_scores))\n",
    "get_confident_interval(others_f1_scores, alpha)\n",
    "plt.hist(others_f1_scores)\n",
    "plt.show()"
   ]
  },
  {
   "cell_type": "code",
   "execution_count": null,
   "metadata": {},
   "outputs": [],
   "source": []
  }
 ],
 "metadata": {
  "kernelspec": {
   "display_name": "Python 3",
   "language": "python",
   "name": "python3"
  },
  "language_info": {
   "codemirror_mode": {
    "name": "ipython",
    "version": 3
   },
   "file_extension": ".py",
   "mimetype": "text/x-python",
   "name": "python",
   "nbconvert_exporter": "python",
   "pygments_lexer": "ipython3",
   "version": "3.6.5"
  }
 },
 "nbformat": 4,
 "nbformat_minor": 2
}
