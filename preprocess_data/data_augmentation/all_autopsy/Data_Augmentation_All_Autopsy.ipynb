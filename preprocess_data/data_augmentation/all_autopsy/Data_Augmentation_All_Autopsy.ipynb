{
 "cells": [
  {
   "cell_type": "code",
   "execution_count": 1,
   "metadata": {},
   "outputs": [],
   "source": [
    "import pandas as pd\n",
    "import pickle"
   ]
  },
  {
   "cell_type": "code",
   "execution_count": 2,
   "metadata": {},
   "outputs": [],
   "source": [
    "with open(\"../data/data_with_date/nacc_csv_with_dates.csv\", \"rt\") as fin:\n",
    "    nacc_csv = pd.read_csv(fin, low_memory=False)"
   ]
  },
  {
   "cell_type": "code",
   "execution_count": 3,
   "metadata": {},
   "outputs": [
    {
     "data": {
      "text/plain": [
       "array([-4,  2,  3,  1,  0,  8,  9])"
      ]
     },
     "execution_count": 3,
     "metadata": {},
     "output_type": "execute_result"
    }
   ],
   "source": [
    "pd.unique(nacc_csv[\"NPADNC\"])  # [0, 1, 2, 3] indicates valid data"
   ]
  },
  {
   "cell_type": "code",
   "execution_count": 4,
   "metadata": {},
   "outputs": [
    {
     "data": {
      "text/plain": [
       "array([-4,  0,  3,  2,  1,  4,  8,  9])"
      ]
     },
     "execution_count": 4,
     "metadata": {},
     "output_type": "execute_result"
    }
   ],
   "source": [
    "pd.unique(nacc_csv[\"NACCLEWY\"])  # [0, 1, 2, 3] indicates valid data"
   ]
  },
  {
   "cell_type": "code",
   "execution_count": 5,
   "metadata": {},
   "outputs": [],
   "source": [
    "nacc_csv_all_autopsy = nacc_csv.loc[(nacc_csv[\"NACCLEWY\"].isin([0, 1, 2, 3])) & (nacc_csv[\"NPADNC\"].isin([0, 1, 2, 3]))]"
   ]
  },
  {
   "cell_type": "code",
   "execution_count": 6,
   "metadata": {},
   "outputs": [
    {
     "data": {
      "text/plain": [
       "(2512, 12321)"
      ]
     },
     "execution_count": 6,
     "metadata": {},
     "output_type": "execute_result"
    }
   ],
   "source": [
    "len(pd.unique(nacc_csv_all_autopsy[\"NACCID\"])),len(nacc_csv_all_autopsy)"
   ]
  },
  {
   "cell_type": "code",
   "execution_count": 7,
   "metadata": {},
   "outputs": [],
   "source": [
    "# to see how many patient for each category\n",
    "pure_ad = nacc_csv_all_autopsy.loc[(nacc_csv[\"NPADNC\"].isin([2, 3])) & (nacc_csv[\"NACCLEWY\"]==0)]\n",
    "pure_lbd = nacc_csv_all_autopsy.loc[(nacc_csv[\"NPADNC\"].isin([0, 1])) & (nacc_csv[\"NACCLEWY\"]==3)]\n",
    "mixed = nacc_csv_all_autopsy.loc[(nacc_csv[\"NPADNC\"].isin([2, 3])) & (nacc_csv[\"NACCLEWY\"].isin([1,2,3]))]"
   ]
  },
  {
   "cell_type": "code",
   "execution_count": 8,
   "metadata": {
    "scrolled": true
   },
   "outputs": [
    {
     "data": {
      "text/plain": [
       "(970, 53, 751)"
      ]
     },
     "execution_count": 8,
     "metadata": {},
     "output_type": "execute_result"
    }
   ],
   "source": [
    "len(pd.unique(pure_ad[\"NACCID\"])), len(pd.unique(pure_lbd[\"NACCID\"])), len(pd.unique(mixed[\"NACCID\"]))"
   ]
  },
  {
   "cell_type": "code",
   "execution_count": 9,
   "metadata": {},
   "outputs": [
    {
     "data": {
      "text/plain": [
       "(4937, 265, 3541)"
      ]
     },
     "execution_count": 9,
     "metadata": {},
     "output_type": "execute_result"
    }
   ],
   "source": [
    "len(pure_ad), len(pure_lbd), len(mixed)"
   ]
  },
  {
   "cell_type": "code",
   "execution_count": 10,
   "metadata": {},
   "outputs": [],
   "source": [
    "# to get the patients for each category\n",
    "pure_ad_patient_list = list(pd.unique(pure_ad[\"NACCID\"]))\n",
    "pure_lbd_patient_list = list(pd.unique(pure_lbd[\"NACCID\"]))\n",
    "mixed_patient_list = list(pd.unique(mixed[\"NACCID\"]))\n",
    "others_patient_list = list(set(pd.unique(nacc_csv_all_autopsy[\"NACCID\"])) - set(pure_ad_patient_list) - set(pure_lbd_patient_list) - set(mixed_patient_list))"
   ]
  },
  {
   "cell_type": "code",
   "execution_count": 11,
   "metadata": {},
   "outputs": [
    {
     "data": {
      "text/plain": [
       "(2512, 970, 53, 751, 738)"
      ]
     },
     "execution_count": 11,
     "metadata": {},
     "output_type": "execute_result"
    }
   ],
   "source": [
    "len(pd.unique(nacc_csv_all_autopsy[\"NACCID\"])), len(pure_ad_patient_list), len(pure_lbd_patient_list), len(mixed_patient_list), len(others_patient_list)"
   ]
  },
  {
   "cell_type": "code",
   "execution_count": 12,
   "metadata": {},
   "outputs": [],
   "source": [
    "# to read in the valid and test dataset of which has been preprocessed before for the first visit"
   ]
  },
  {
   "cell_type": "code",
   "execution_count": 13,
   "metadata": {},
   "outputs": [],
   "source": [
    "with open(\"./processed_data/processed_csv/first_visit_features/valid_first_visit_features.csv\", \"rt\") as fin:\n",
    "    valid_csv_before = pd.read_csv(fin)\n",
    "with open(\"./processed_data/processed_csv/first_visit_features/test_first_visit_features.csv\", \"rt\") as fin:\n",
    "    test_csv_before = pd.read_csv(fin)"
   ]
  },
  {
   "cell_type": "code",
   "execution_count": 14,
   "metadata": {},
   "outputs": [
    {
     "data": {
      "text/plain": [
       "(380, 380, 380, 380)"
      ]
     },
     "execution_count": 14,
     "metadata": {},
     "output_type": "execute_result"
    }
   ],
   "source": [
    "len(pd.unique(valid_csv_before[\"NACCID\"])), len(pd.unique(test_csv_before[\"NACCID\"])), len(valid_csv_before), len(test_csv_before)"
   ]
  },
  {
   "cell_type": "markdown",
   "metadata": {},
   "source": [
    "Note we need to re-select valid and test set, since those patients can have also other records which are not the first early stage visit."
   ]
  },
  {
   "cell_type": "code",
   "execution_count": 15,
   "metadata": {},
   "outputs": [],
   "source": [
    "# for our all autopsy data, we get train, valid and test patients\n",
    "train_csv = nacc_csv_all_autopsy.loc[~nacc_csv_all_autopsy[\"NACCID\"].isin(list(valid_csv_before[\"NACCID\"]) + list(test_csv_before[\"NACCID\"]))]\n",
    "valid_csv = nacc_csv_all_autopsy.loc[(nacc_csv_all_autopsy[\"NACCID\"].isin(list(valid_csv_before[\"NACCID\"]))) & (nacc_csv_all_autopsy[\"CDRGLOB\"].isin([0.5, 1]))].groupby(\"NACCID\").head(1)\n",
    "test_csv = nacc_csv_all_autopsy.loc[(nacc_csv_all_autopsy[\"NACCID\"].isin(list(test_csv_before[\"NACCID\"]))) & (nacc_csv_all_autopsy[\"CDRGLOB\"].isin([0.5, 1]))].groupby(\"NACCID\").head(1)"
   ]
  },
  {
   "cell_type": "code",
   "execution_count": 16,
   "metadata": {},
   "outputs": [],
   "source": [
    "train_csv = train_csv.reset_index(drop=True)\n",
    "valid_csv = valid_csv.reset_index(drop=True)\n",
    "test_csv = test_csv.reset_index(drop=True)"
   ]
  },
  {
   "cell_type": "code",
   "execution_count": 17,
   "metadata": {},
   "outputs": [
    {
     "data": {
      "text/plain": [
       "(380, 380, 380, 380)"
      ]
     },
     "execution_count": 17,
     "metadata": {},
     "output_type": "execute_result"
    }
   ],
   "source": [
    "len(pd.unique(valid_csv[\"NACCID\"])), len(pd.unique(test_csv[\"NACCID\"])), len(valid_csv), len(test_csv)"
   ]
  },
  {
   "cell_type": "code",
   "execution_count": 18,
   "metadata": {},
   "outputs": [],
   "source": [
    "### get the label dataframe from the original feature dataframe ###\n",
    "def label_disease(row):\n",
    "    # PURE AD\n",
    "    if row[\"NPADNC\"] in [2, 3] and row[\"NACCLEWY\"] == 0:\n",
    "        return 0\n",
    "    \n",
    "    # PURE LBD\n",
    "    elif row[\"NPADNC\"] in [0, 1] and row[\"NACCLEWY\"] == 3:\n",
    "        return 1\n",
    "    \n",
    "    # MIXED AD + LBD\n",
    "    elif row[\"NPADNC\"] in [2, 3] and row[\"NACCLEWY\"] in [1, 2, 3]:\n",
    "        return 2\n",
    "    \n",
    "    # OTHERS\n",
    "    else:\n",
    "        return 3\n",
    "    \n",
    "train_csv[\"label\"] = train_csv.apply (lambda row: label_disease(row), axis=1)  \n",
    "valid_csv[\"label\"] = valid_csv.apply (lambda row: label_disease(row), axis=1)  \n",
    "test_csv[\"label\"] = test_csv.apply (lambda row: label_disease(row), axis=1)  "
   ]
  },
  {
   "cell_type": "code",
   "execution_count": 19,
   "metadata": {},
   "outputs": [],
   "source": [
    "# get the labels for it\n",
    "train_labels = train_csv[[\"NACCID\", \"DATE\", \"label\"]]\n",
    "valid_labels = valid_csv[[\"NACCID\", \"DATE\", \"label\"]]\n",
    "test_labels = test_csv[[\"NACCID\", \"DATE\", \"label\"]]"
   ]
  },
  {
   "cell_type": "code",
   "execution_count": 20,
   "metadata": {},
   "outputs": [],
   "source": [
    "# write features and labels into csv file\n",
    "### write all features and labels into pandas file ###\n",
    "train_csv.to_csv(\"./data_augmentation/all_autopsy/csv/features/train_first_visit_features.csv\", index=False)\n",
    "valid_csv.to_csv(\"./data_augmentation/all_autopsy/csv/features/valid_first_visit_features.csv\", index=False)\n",
    "test_csv.to_csv(\"./data_augmentation/all_autopsy/csv/features/test_first_visit_features.csv\", index=False)"
   ]
  },
  {
   "cell_type": "code",
   "execution_count": 21,
   "metadata": {},
   "outputs": [],
   "source": [
    "train_csv.to_csv(\"./data_augmentation/all_autopsy/csv/labels/train_labels.csv\", index=False)\n",
    "valid_csv.to_csv(\"./data_augmentation/all_autopsy/csv/labels/valid_labels.csv\", index=False)\n",
    "test_csv.to_csv(\"./data_augmentation/all_autopsy/csv/labels/test_labels.csv\", index=False)"
   ]
  },
  {
   "cell_type": "code",
   "execution_count": 22,
   "metadata": {},
   "outputs": [
    {
     "data": {
      "text/plain": [
       "(3311, 169, 2340, 2560)"
      ]
     },
     "execution_count": 22,
     "metadata": {},
     "output_type": "execute_result"
    }
   ],
   "source": [
    "# statistics\n",
    "len(train_labels[train_labels[\"label\"]==0]), len(train_labels[train_labels[\"label\"]==1]), len(train_labels[train_labels[\"label\"]==2]), len(train_labels[train_labels[\"label\"]==3])"
   ]
  },
  {
   "cell_type": "code",
   "execution_count": null,
   "metadata": {},
   "outputs": [],
   "source": []
  }
 ],
 "metadata": {
  "kernelspec": {
   "display_name": "Python 3",
   "language": "python",
   "name": "python3"
  },
  "language_info": {
   "codemirror_mode": {
    "name": "ipython",
    "version": 3
   },
   "file_extension": ".py",
   "mimetype": "text/x-python",
   "name": "python",
   "nbconvert_exporter": "python",
   "pygments_lexer": "ipython3",
   "version": "3.6.5"
  }
 },
 "nbformat": 4,
 "nbformat_minor": 2
}
