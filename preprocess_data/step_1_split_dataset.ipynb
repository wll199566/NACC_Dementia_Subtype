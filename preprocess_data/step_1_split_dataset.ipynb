{
 "cells": [
  {
   "cell_type": "code",
   "execution_count": 1,
   "metadata": {},
   "outputs": [],
   "source": [
    "import pandas as pd"
   ]
  },
  {
   "cell_type": "code",
   "execution_count": 2,
   "metadata": {},
   "outputs": [],
   "source": [
    "### read in the qualified features dataframe ###\n",
    "with open(\"../explore_data/intermediate_files/qualified_patients_features_nc_mild_window_df.csv\", \"rt\") as fin:\n",
    "    qualified_patients_features_df = pd.read_csv(fin, low_memory=False)"
   ]
  },
  {
   "cell_type": "code",
   "execution_count": 6,
   "metadata": {},
   "outputs": [],
   "source": [
    "### get PURE AD, PURE LBD, MIXED AD + LBD patient dataframe ###\n",
    "pure_ad_patients_df = qualified_patients_features_df.loc[(qualified_patients_features_df[\"NPADNC\"].isin([2, 3])) & (qualified_patients_features_df[\"NACCLEWY\"]==0)]\n",
    "pure_lbd_patients_df = qualified_patients_features_df.loc[(qualified_patients_features_df[\"NPADNC\"].isin([0, 1])) & (qualified_patients_features_df[\"NACCLEWY\"]==3)]\n",
    "mixed_ad_lbd_patients_df = qualified_patients_features_df.loc[(qualified_patients_features_df[\"NPADNC\"].isin([2, 3])) & (qualified_patients_features_df[\"NACCLEWY\"].isin([1, 2, 3]))]"
   ]
  },
  {
   "cell_type": "code",
   "execution_count": 27,
   "metadata": {},
   "outputs": [],
   "source": [
    "### get PURE AD, PURE LBD, MIXED AD + LBD patient list and patient of other diseases list###\n",
    "pure_ad_patients_list = list(pd.unique(pure_ad_patients_df[\"NACCID\"]))\n",
    "pure_lbd_patients_list = list(pd.unique(pure_lbd_patients_df[\"NACCID\"]))\n",
    "mixed_ad_lbd_patients_list = list(pd.unique(mixed_ad_lbd_patients_df[\"NACCID\"]))\n",
    "other_patients_list = list(set(pd.unique(qualified_patients_features_df[\"NACCID\"])) - set(pure_ad_patients_list) - set(pure_lbd_patients_list) - set(mixed_ad_lbd_patients_list))"
   ]
  },
  {
   "cell_type": "code",
   "execution_count": 30,
   "metadata": {},
   "outputs": [
    {
     "data": {
      "text/plain": [
       "(1887, 757, 46, 572, 512)"
      ]
     },
     "execution_count": 30,
     "metadata": {},
     "output_type": "execute_result"
    }
   ],
   "source": [
    "len(pd.unique(qualified_patients_features_df[\"NACCID\"])), len(pure_ad_patients_list), len(pure_lbd_patients_list), len(mixed_ad_lbd_patients_list), len(other_patients_list)"
   ]
  },
  {
   "cell_type": "code",
   "execution_count": 10,
   "metadata": {},
   "outputs": [],
   "source": [
    "from sklearn.model_selection import train_test_split\n",
    "import numpy as np"
   ]
  },
  {
   "cell_type": "code",
   "execution_count": 12,
   "metadata": {},
   "outputs": [],
   "source": [
    "random_state = 1234"
   ]
  },
  {
   "cell_type": "code",
   "execution_count": 14,
   "metadata": {},
   "outputs": [],
   "source": [
    "# for PURE AD patient\n",
    "valid_test_num_pure_ad = int(np.ceil(len(pure_ad_patients_list) * 0.2))\n",
    "pure_ad_patient_list_train, pure_ad_patient_list_test = train_test_split(pure_ad_patients_list, test_size=valid_test_num_pure_ad, random_state=random_state, shuffle=True)\n",
    "pure_ad_patient_list_train, pure_ad_patient_list_valid = train_test_split(pure_ad_patient_list_train, test_size=valid_test_num_pure_ad, random_state=random_state, shuffle=True)"
   ]
  },
  {
   "cell_type": "code",
   "execution_count": 15,
   "metadata": {},
   "outputs": [],
   "source": [
    "# for PURE LBD patient\n",
    "valid_test_num_pure_lbd = int(np.ceil(len(pure_lbd_patients_list) * 0.2))\n",
    "pure_lbd_patient_list_train, pure_lbd_patient_list_test = train_test_split(pure_lbd_patients_list, test_size=valid_test_num_pure_lbd, random_state=random_state, shuffle=True)\n",
    "pure_lbd_patient_list_train, pure_lbd_patient_list_valid = train_test_split(pure_lbd_patient_list_train, test_size=valid_test_num_pure_lbd, random_state=random_state, shuffle=True)"
   ]
  },
  {
   "cell_type": "code",
   "execution_count": 16,
   "metadata": {},
   "outputs": [],
   "source": [
    "# for PURE AD patient\n",
    "valid_test_num_mixed_ad_lbd = int(np.ceil(len(mixed_ad_lbd_patients_list) * 0.2))\n",
    "mixed_ad_lbd_patient_list_train, mixed_ad_lbd_patient_list_test = train_test_split(mixed_ad_lbd_patients_list, test_size=valid_test_num_mixed_ad_lbd, random_state=random_state, shuffle=True)\n",
    "mixed_ad_lbd_patient_list_train, mixed_ad_lbd_patient_list_valid = train_test_split(mixed_ad_lbd_patient_list_train, test_size=valid_test_num_mixed_ad_lbd, random_state=random_state, shuffle=True)"
   ]
  },
  {
   "cell_type": "code",
   "execution_count": 32,
   "metadata": {},
   "outputs": [],
   "source": [
    "# for other diseases patient\n",
    "valid_test_num_others = int(np.ceil(len(other_patients_list) * 0.2))\n",
    "other_patient_list_train, other_patient_list_test = train_test_split(other_patients_list, test_size=valid_test_num_others, random_state=random_state, shuffle=True)\n",
    "other_patient_list_train, other_patient_list_valid = train_test_split(other_patient_list_train, test_size=valid_test_num_others, random_state=random_state, shuffle=True)"
   ]
  },
  {
   "cell_type": "code",
   "execution_count": 35,
   "metadata": {},
   "outputs": [
    {
     "data": {
      "text/plain": [
       "(453, 152, 152)"
      ]
     },
     "execution_count": 35,
     "metadata": {},
     "output_type": "execute_result"
    }
   ],
   "source": [
    "len(pure_ad_patient_list_train), len(pure_ad_patient_list_valid), len(pure_ad_patient_list_test)"
   ]
  },
  {
   "cell_type": "code",
   "execution_count": 36,
   "metadata": {},
   "outputs": [
    {
     "data": {
      "text/plain": [
       "(26, 10, 10)"
      ]
     },
     "execution_count": 36,
     "metadata": {},
     "output_type": "execute_result"
    }
   ],
   "source": [
    "len(pure_lbd_patient_list_train), len(pure_lbd_patient_list_valid), len(pure_lbd_patient_list_test)"
   ]
  },
  {
   "cell_type": "code",
   "execution_count": 37,
   "metadata": {},
   "outputs": [
    {
     "data": {
      "text/plain": [
       "(342, 115, 115)"
      ]
     },
     "execution_count": 37,
     "metadata": {},
     "output_type": "execute_result"
    }
   ],
   "source": [
    "len(mixed_ad_lbd_patient_list_train), len(mixed_ad_lbd_patient_list_valid), len(mixed_ad_lbd_patient_list_test)"
   ]
  },
  {
   "cell_type": "code",
   "execution_count": 38,
   "metadata": {},
   "outputs": [
    {
     "data": {
      "text/plain": [
       "(306, 103, 103)"
      ]
     },
     "execution_count": 38,
     "metadata": {},
     "output_type": "execute_result"
    }
   ],
   "source": [
    "len(other_patient_list_train), len(other_patient_list_valid), len(other_patient_list_test)"
   ]
  },
  {
   "cell_type": "code",
   "execution_count": 39,
   "metadata": {},
   "outputs": [],
   "source": [
    "### get train, valid, test set ###\n",
    "train_patients_list = pure_ad_patient_list_train + pure_lbd_patient_list_train + mixed_ad_lbd_patient_list_train + other_patient_list_train\n",
    "valid_patients_list = pure_ad_patient_list_valid + pure_lbd_patient_list_valid + mixed_ad_lbd_patient_list_valid + other_patient_list_valid\n",
    "test_patients_list = pure_ad_patient_list_test + pure_lbd_patient_list_test + mixed_ad_lbd_patient_list_test + other_patient_list_test"
   ]
  },
  {
   "cell_type": "code",
   "execution_count": 40,
   "metadata": {},
   "outputs": [
    {
     "data": {
      "text/plain": [
       "(1127, 380, 380)"
      ]
     },
     "execution_count": 40,
     "metadata": {},
     "output_type": "execute_result"
    }
   ],
   "source": [
    "len(train_patients_list), len(valid_patients_list), len(test_patients_list)"
   ]
  },
  {
   "cell_type": "code",
   "execution_count": 44,
   "metadata": {},
   "outputs": [],
   "source": [
    "### get the label dataframe from the original feature dataframe ###\n",
    "def label_disease(row):\n",
    "    # PURE AD\n",
    "    if row[\"NPADNC\"] in [2, 3] and row[\"NACCLEWY\"] == 0:\n",
    "        return 0\n",
    "    \n",
    "    # PURE LBD\n",
    "    elif row[\"NPADNC\"] in [0, 1] and row[\"NACCLEWY\"] == 3:\n",
    "        return 1\n",
    "    \n",
    "    # MIXED AD + LBD\n",
    "    elif row[\"NPADNC\"] in [2, 3] and row[\"NACCLEWY\"] in [1, 2, 3]:\n",
    "        return 2\n",
    "    \n",
    "    # OTHERS\n",
    "    else:\n",
    "        return 3\n",
    "    \n",
    "qualified_patients_features_df[\"label\"] = qualified_patients_features_df.apply (lambda row: label_disease(row), axis=1)    "
   ]
  },
  {
   "cell_type": "code",
   "execution_count": 55,
   "metadata": {},
   "outputs": [],
   "source": [
    "### get the label dataframe from train, valid and test ###\n",
    "train_general_df = qualified_patients_features_df.loc[qualified_patients_features_df[\"NACCID\"].isin(train_patients_list)]\n",
    "valid_general_df = qualified_patients_features_df.loc[qualified_patients_features_df[\"NACCID\"].isin(valid_patients_list)]\n",
    "test_general_df = qualified_patients_features_df.loc[qualified_patients_features_df[\"NACCID\"].isin(test_patients_list)]\n",
    "\n",
    "train_labels = train_general_df.groupby(\"NACCID\").head(1)[[\"NACCID\",\"label\"]]\n",
    "valid_labels = valid_general_df.groupby(\"NACCID\").head(1)[[\"NACCID\",\"label\"]]\n",
    "test_labels = test_general_df.groupby(\"NACCID\").head(1)[[\"NACCID\", \"label\"]]\n",
    "\n",
    "train_labels = train_labels.reset_index(drop=True)\n",
    "valid_labels = valid_labels.reset_index(drop=True)\n",
    "test_labels = test_labels.reset_index(drop=True)"
   ]
  },
  {
   "cell_type": "code",
   "execution_count": 56,
   "metadata": {
    "scrolled": true
   },
   "outputs": [
    {
     "data": {
      "text/plain": [
       "(1127, 380, 380)"
      ]
     },
     "execution_count": 56,
     "metadata": {},
     "output_type": "execute_result"
    }
   ],
   "source": [
    "len(train_labels), len(valid_labels), len(test_labels)"
   ]
  },
  {
   "cell_type": "code",
   "execution_count": 62,
   "metadata": {},
   "outputs": [],
   "source": [
    "### Condition 1: use the first visit of each MILD window as the input ###\n",
    "train_first_visit_features_df = train_general_df.loc[train_general_df[\"CDRGLOB\"].isin([0.5, 1])].groupby(\"NACCID\").head(1)\n",
    "valid_first_visit_features_df = valid_general_df.loc[valid_general_df[\"CDRGLOB\"].isin([0.5, 1])].groupby(\"NACCID\").head(1)\n",
    "test_first_visit_features_df = test_general_df.loc[test_general_df[\"CDRGLOB\"].isin([0.5, 1])].groupby(\"NACCID\").head(1)"
   ]
  },
  {
   "cell_type": "code",
   "execution_count": 68,
   "metadata": {},
   "outputs": [],
   "source": [
    "### Condition 2: use the last visit of each MILD window as the input ###\n",
    "train_last_visit_features_df = train_general_df.loc[train_general_df[\"CDRGLOB\"].isin([0.5, 1])].groupby(\"NACCID\").tail(1)\n",
    "valid_last_visit_features_df = valid_general_df.loc[valid_general_df[\"CDRGLOB\"].isin([0.5, 1])].groupby(\"NACCID\").tail(1)\n",
    "test_last_visit_features_df = test_general_df.loc[test_general_df[\"CDRGLOB\"].isin([0.5, 1])].groupby(\"NACCID\").tail(1)"
   ]
  },
  {
   "cell_type": "code",
   "execution_count": 69,
   "metadata": {},
   "outputs": [],
   "source": [
    "### Condition 3: use all the visits of 0.5 or 1 in each MILD window as the input ###\n",
    "train_all_visits_features_df = train_general_df.loc[train_general_df[\"CDRGLOB\"].isin([0.5, 1])]\n",
    "valid_all_visits_features_df = valid_general_df.loc[valid_general_df[\"CDRGLOB\"].isin([0.5, 1])]\n",
    "test_all_visits_features_df = test_general_df.loc[test_general_df[\"CDRGLOB\"].isin([0.5, 1])]"
   ]
  },
  {
   "cell_type": "code",
   "execution_count": 73,
   "metadata": {},
   "outputs": [],
   "source": [
    "### Reset their index ###\n",
    "train_first_visit_features_df = train_first_visit_features_df.reset_index(drop=True)\n",
    "valid_first_visit_features_df = valid_first_visit_features_df.reset_index(drop=True)\n",
    "test_first_visit_features_df = test_first_visit_features_df.reset_index(drop=True)\n",
    "\n",
    "train_last_visit_features_df = train_last_visit_features_df.reset_index(drop=True)\n",
    "valid_last_visit_features_df = valid_last_visit_features_df.reset_index(drop=True)\n",
    "test_last_visit_features_df = test_last_visit_features_df.reset_index(drop=True)\n",
    "\n",
    "train_all_visits_features_df = train_all_visits_features_df.reset_index(drop=True)\n",
    "valid_all_visits_features_df = valid_all_visits_features_df.reset_index(drop=True)\n",
    "test_all_visits_features_df = test_all_visits_features_df.reset_index(drop=True)\n"
   ]
  },
  {
   "cell_type": "code",
   "execution_count": 84,
   "metadata": {},
   "outputs": [],
   "source": [
    "### write all features and labels into pandas file ###\n",
    "train_first_visit_features_df.to_csv(\"./processed_data/first_visit_features/train_first_visit_features.csv\", index=False)\n",
    "valid_first_visit_features_df.to_csv(\"./processed_data/first_visit_features/valid_first_visit_features.csv\", index=False)\n",
    "test_first_visit_features_df.to_csv(\"./processed_data/first_visit_features/test_first_visit_features.csv\", index=False)"
   ]
  },
  {
   "cell_type": "code",
   "execution_count": 85,
   "metadata": {},
   "outputs": [],
   "source": [
    "train_last_visit_features_df.to_csv(\"./processed_data/last_visit_features/train_last_visit_features.csv\", index=False)\n",
    "valid_last_visit_features_df.to_csv(\"./processed_data/last_visit_features/valid_last_visit_features.csv\", index=False)\n",
    "test_last_visit_features_df.to_csv(\"./processed_data/last_visit_features/test_last_visit_features.csv\", index=False)"
   ]
  },
  {
   "cell_type": "code",
   "execution_count": 86,
   "metadata": {},
   "outputs": [],
   "source": [
    "train_all_visits_features_df.to_csv(\"./processed_data/all_visits_features/train_all_visits_features.csv\", index=False)\n",
    "valid_all_visits_features_df.to_csv(\"./processed_data/all_visits_features/valid_all_visits_features.csv\", index=False)\n",
    "test_all_visits_features_df.to_csv(\"./processed_data/all_visits_features/test_all_visits_features.csv\", index=False)"
   ]
  },
  {
   "cell_type": "code",
   "execution_count": 87,
   "metadata": {},
   "outputs": [],
   "source": [
    "train_labels.to_csv(\"./processed_data/labels/train_labels.csv\", index=False)\n",
    "valid_labels.to_csv(\"./processed_data/labels/valid_labels.csv\", index=False)\n",
    "test_labels.to_csv(\"./processed_data/labels/test_labels.csv\", index=False)"
   ]
  },
  {
   "cell_type": "code",
   "execution_count": null,
   "metadata": {},
   "outputs": [],
   "source": []
  }
 ],
 "metadata": {
  "kernelspec": {
   "display_name": "Python 3",
   "language": "python",
   "name": "python3"
  },
  "language_info": {
   "codemirror_mode": {
    "name": "ipython",
    "version": 3
   },
   "file_extension": ".py",
   "mimetype": "text/x-python",
   "name": "python",
   "nbconvert_exporter": "python",
   "pygments_lexer": "ipython3",
   "version": "3.6.5"
  }
 },
 "nbformat": 4,
 "nbformat_minor": 2
}
