{
 "cells": [
  {
   "cell_type": "markdown",
   "metadata": {},
   "source": [
    "# get the sensitivity and specificity lists"
   ]
  },
  {
   "cell_type": "code",
   "execution_count": 11,
   "metadata": {},
   "outputs": [],
   "source": [
    "import pickle\n",
    "import numpy as np"
   ]
  },
  {
   "cell_type": "code",
   "execution_count": 2,
   "metadata": {},
   "outputs": [],
   "source": [
    "# sensitivity\n",
    "with open(\"./bootstrap_sensitivity_specificity/sensitivity_list.pickle\", \"rb\") as fin:\n",
    "    sensitivity_list = pickle.load(fin)"
   ]
  },
  {
   "cell_type": "code",
   "execution_count": 3,
   "metadata": {},
   "outputs": [],
   "source": [
    "# specificity\n",
    "with open(\"./bootstrap_sensitivity_specificity/specificity_list.pickle\", \"rb\") as fin:\n",
    "    specificity_list = pickle.load(fin)"
   ]
  },
  {
   "cell_type": "code",
   "execution_count": 4,
   "metadata": {},
   "outputs": [],
   "source": [
    "######### Sensitivity ############\n",
    "ad_sensitivity_list = [sen[0] for sen in sensitivity_list]\n",
    "lbd_sensitivity_list = [sen[1] for sen in sensitivity_list]\n",
    "mix_sensitivity_list = [sen[2] for sen in sensitivity_list]\n",
    "others_sensitivity_list = [sen[3] for sen in sensitivity_list]"
   ]
  },
  {
   "cell_type": "code",
   "execution_count": 5,
   "metadata": {},
   "outputs": [],
   "source": [
    "######### Specificity ############\n",
    "ad_specificity_list = [spec[0] for spec in specificity_list]\n",
    "lbd_specificity_list = [spec[1] for spec in specificity_list]\n",
    "mix_specificity_list = [spec[2] for spec in specificity_list]\n",
    "others_specificity_list = [spec[3] for spec in specificity_list]"
   ]
  },
  {
   "cell_type": "markdown",
   "metadata": {},
   "source": [
    "# get the bootstrap statistics for each metrics"
   ]
  },
  {
   "cell_type": "code",
   "execution_count": 6,
   "metadata": {},
   "outputs": [],
   "source": [
    "from statistics import mean"
   ]
  },
  {
   "cell_type": "code",
   "execution_count": 7,
   "metadata": {},
   "outputs": [],
   "source": [
    "# define a function to get the confident interval for the metrics\",\n",
    "def get_confident_interval(metrics_list, alpha):\n",
    "    \"\"\"\n",
    "    Args:\n",
    "        - metrics_list: list containing all the bootstrap value for this metrics\",\n",
    "        - alpha: the chosen percentile\n",
    "    \"\"\"\n",
    "    \n",
    "    p = ((1.0 - alpha) / 2.0) * 100,\n",
    "    lower = np.percentile(metrics_list, p),\n",
    "    p = (alpha + ((1.0-alpha)/2.0)) * 100,\n",
    "    upper = np.percentile(metrics_list, p),\n",
    "    print(\"{}% confidence interval {} and {}\".format(alpha*100, lower[0], upper[0]))\n",
    "    print('\\n')"
   ]
  },
  {
   "cell_type": "code",
   "execution_count": 8,
   "metadata": {},
   "outputs": [],
   "source": [
    "alpha = 0.95"
   ]
  },
  {
   "cell_type": "code",
   "execution_count": 12,
   "metadata": {},
   "outputs": [
    {
     "name": "stdout",
     "output_type": "stream",
     "text": [
      "PURE AD\n",
      "mean is 0.6834942210848876\n",
      "95.0% confidence interval [0.60169492] and [0.76867107]\n",
      "\n",
      "\n",
      "PURE LBD\n",
      "mean is 0.5040034489203606\n",
      "95.0% confidence interval [0.14241071] and [0.88888889]\n",
      "\n",
      "\n",
      "MIX AD + LBD\n",
      "mean is 0.184942747942091\n",
      "95.0% confidence interval [0.10465116] and [0.27059436]\n",
      "\n",
      "\n",
      "OTHERS\n",
      "mean is 0.4853181178455822\n",
      "95.0% confidence interval [0.37804201] and [0.59493671]\n",
      "\n",
      "\n"
     ]
    }
   ],
   "source": [
    "######### Sensitivity ############\n",
    "\n",
    "# AD \n",
    "print(\"PURE AD\")\n",
    "print(\"mean is\", mean(ad_sensitivity_list))\n",
    "get_confident_interval(ad_sensitivity_list, alpha)\n",
    "\n",
    "# LBD \n",
    "print(\"PURE LBD\")\n",
    "print(\"mean is\", mean(lbd_sensitivity_list))\n",
    "get_confident_interval(lbd_sensitivity_list, alpha)\n",
    "# MIX\n",
    "print(\"MIX AD + LBD\")\n",
    "print(\"mean is\", mean(mix_sensitivity_list))\n",
    "get_confident_interval(mix_sensitivity_list, alpha)\n",
    "# Others\n",
    "print(\"OTHERS\")\n",
    "print(\"mean is\", mean(others_sensitivity_list))\n",
    "get_confident_interval(others_sensitivity_list, alpha)"
   ]
  },
  {
   "cell_type": "code",
   "execution_count": 13,
   "metadata": {},
   "outputs": [
    {
     "name": "stdout",
     "output_type": "stream",
     "text": [
      "PURE AD\n",
      "mean is 0.5004424960321845\n",
      "95.0% confidence interval [0.42931001] and [0.57303713]\n",
      "\n",
      "\n",
      "PURE LBD\n",
      "mean is 0.9509627465571281\n",
      "95.0% confidence interval [0.92516368] and [0.97315436]\n",
      "\n",
      "\n",
      "MIX AD + LBD\n",
      "mean is 0.9212136448277208\n",
      "95.0% confidence interval [0.88348899] and [0.95535935]\n",
      "\n",
      "\n",
      "OTHERS\n",
      "mean is 0.8309740522634309\n",
      "95.0% confidence interval [0.78164527] and [0.87946842]\n",
      "\n",
      "\n"
     ]
    }
   ],
   "source": [
    "######### Specificity ############\n",
    "\n",
    "# AD \n",
    "print(\"PURE AD\")\n",
    "print(\"mean is\", mean(ad_specificity_list))\n",
    "get_confident_interval(ad_specificity_list, alpha)\n",
    "\n",
    "# LBD \n",
    "print(\"PURE LBD\")\n",
    "print(\"mean is\", mean(lbd_specificity_list))\n",
    "get_confident_interval(lbd_specificity_list, alpha)\n",
    "# MIX\n",
    "print(\"MIX AD + LBD\")\n",
    "print(\"mean is\", mean(mix_specificity_list))\n",
    "get_confident_interval(mix_specificity_list, alpha)\n",
    "# Others\n",
    "print(\"OTHERS\")\n",
    "print(\"mean is\", mean(others_specificity_list))\n",
    "get_confident_interval(others_specificity_list, alpha)"
   ]
  },
  {
   "cell_type": "code",
   "execution_count": null,
   "metadata": {},
   "outputs": [],
   "source": []
  }
 ],
 "metadata": {
  "kernelspec": {
   "display_name": "Python 3",
   "language": "python",
   "name": "python3"
  },
  "language_info": {
   "codemirror_mode": {
    "name": "ipython",
    "version": 3
   },
   "file_extension": ".py",
   "mimetype": "text/x-python",
   "name": "python",
   "nbconvert_exporter": "python",
   "pygments_lexer": "ipython3",
   "version": "3.6.5"
  }
 },
 "nbformat": 4,
 "nbformat_minor": 2
}
